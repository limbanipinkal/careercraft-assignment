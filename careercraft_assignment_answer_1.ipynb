{
  "nbformat": 4,
  "nbformat_minor": 0,
  "metadata": {
    "colab": {
      "provenance": [],
      "mount_file_id": "1j6kvC3Eg7_rCreTakBIQK82qwaWyu2aN",
      "authorship_tag": "ABX9TyMCET1rKmxmK2t1W01JRxXE",
      "include_colab_link": true
    },
    "kernelspec": {
      "name": "python3",
      "display_name": "Python 3"
    },
    "language_info": {
      "name": "python"
    }
  },
  "cells": [
    {
      "cell_type": "markdown",
      "metadata": {
        "id": "view-in-github",
        "colab_type": "text"
      },
      "source": [
        "<a href=\"https://colab.research.google.com/github/limbanipinkal/careercraft-assignment/blob/main/careercraft_assignment_answer_1.ipynb\" target=\"_parent\"><img src=\"https://colab.research.google.com/assets/colab-badge.svg\" alt=\"Open In Colab\"/></a>"
      ]
    },
    {
      "cell_type": "code",
      "execution_count": null,
      "metadata": {
        "colab": {
          "base_uri": "https://localhost:8080/",
          "height": 73
        },
        "id": "h-fz_nY8xsE3",
        "outputId": "2044680e-6884-44a5-a5fa-64a853d6fbd3"
      },
      "outputs": [
        {
          "output_type": "display_data",
          "data": {
            "text/plain": [
              "<IPython.core.display.HTML object>"
            ],
            "text/html": [
              "\n",
              "     <input type=\"file\" id=\"files-e7fae943-4327-4f97-9f48-a060732925e1\" name=\"files[]\" multiple disabled\n",
              "        style=\"border:none\" />\n",
              "     <output id=\"result-e7fae943-4327-4f97-9f48-a060732925e1\">\n",
              "      Upload widget is only available when the cell has been executed in the\n",
              "      current browser session. Please rerun this cell to enable.\n",
              "      </output>\n",
              "      <script>// Copyright 2017 Google LLC\n",
              "//\n",
              "// Licensed under the Apache License, Version 2.0 (the \"License\");\n",
              "// you may not use this file except in compliance with the License.\n",
              "// You may obtain a copy of the License at\n",
              "//\n",
              "//      http://www.apache.org/licenses/LICENSE-2.0\n",
              "//\n",
              "// Unless required by applicable law or agreed to in writing, software\n",
              "// distributed under the License is distributed on an \"AS IS\" BASIS,\n",
              "// WITHOUT WARRANTIES OR CONDITIONS OF ANY KIND, either express or implied.\n",
              "// See the License for the specific language governing permissions and\n",
              "// limitations under the License.\n",
              "\n",
              "/**\n",
              " * @fileoverview Helpers for google.colab Python module.\n",
              " */\n",
              "(function(scope) {\n",
              "function span(text, styleAttributes = {}) {\n",
              "  const element = document.createElement('span');\n",
              "  element.textContent = text;\n",
              "  for (const key of Object.keys(styleAttributes)) {\n",
              "    element.style[key] = styleAttributes[key];\n",
              "  }\n",
              "  return element;\n",
              "}\n",
              "\n",
              "// Max number of bytes which will be uploaded at a time.\n",
              "const MAX_PAYLOAD_SIZE = 100 * 1024;\n",
              "\n",
              "function _uploadFiles(inputId, outputId) {\n",
              "  const steps = uploadFilesStep(inputId, outputId);\n",
              "  const outputElement = document.getElementById(outputId);\n",
              "  // Cache steps on the outputElement to make it available for the next call\n",
              "  // to uploadFilesContinue from Python.\n",
              "  outputElement.steps = steps;\n",
              "\n",
              "  return _uploadFilesContinue(outputId);\n",
              "}\n",
              "\n",
              "// This is roughly an async generator (not supported in the browser yet),\n",
              "// where there are multiple asynchronous steps and the Python side is going\n",
              "// to poll for completion of each step.\n",
              "// This uses a Promise to block the python side on completion of each step,\n",
              "// then passes the result of the previous step as the input to the next step.\n",
              "function _uploadFilesContinue(outputId) {\n",
              "  const outputElement = document.getElementById(outputId);\n",
              "  const steps = outputElement.steps;\n",
              "\n",
              "  const next = steps.next(outputElement.lastPromiseValue);\n",
              "  return Promise.resolve(next.value.promise).then((value) => {\n",
              "    // Cache the last promise value to make it available to the next\n",
              "    // step of the generator.\n",
              "    outputElement.lastPromiseValue = value;\n",
              "    return next.value.response;\n",
              "  });\n",
              "}\n",
              "\n",
              "/**\n",
              " * Generator function which is called between each async step of the upload\n",
              " * process.\n",
              " * @param {string} inputId Element ID of the input file picker element.\n",
              " * @param {string} outputId Element ID of the output display.\n",
              " * @return {!Iterable<!Object>} Iterable of next steps.\n",
              " */\n",
              "function* uploadFilesStep(inputId, outputId) {\n",
              "  const inputElement = document.getElementById(inputId);\n",
              "  inputElement.disabled = false;\n",
              "\n",
              "  const outputElement = document.getElementById(outputId);\n",
              "  outputElement.innerHTML = '';\n",
              "\n",
              "  const pickedPromise = new Promise((resolve) => {\n",
              "    inputElement.addEventListener('change', (e) => {\n",
              "      resolve(e.target.files);\n",
              "    });\n",
              "  });\n",
              "\n",
              "  const cancel = document.createElement('button');\n",
              "  inputElement.parentElement.appendChild(cancel);\n",
              "  cancel.textContent = 'Cancel upload';\n",
              "  const cancelPromise = new Promise((resolve) => {\n",
              "    cancel.onclick = () => {\n",
              "      resolve(null);\n",
              "    };\n",
              "  });\n",
              "\n",
              "  // Wait for the user to pick the files.\n",
              "  const files = yield {\n",
              "    promise: Promise.race([pickedPromise, cancelPromise]),\n",
              "    response: {\n",
              "      action: 'starting',\n",
              "    }\n",
              "  };\n",
              "\n",
              "  cancel.remove();\n",
              "\n",
              "  // Disable the input element since further picks are not allowed.\n",
              "  inputElement.disabled = true;\n",
              "\n",
              "  if (!files) {\n",
              "    return {\n",
              "      response: {\n",
              "        action: 'complete',\n",
              "      }\n",
              "    };\n",
              "  }\n",
              "\n",
              "  for (const file of files) {\n",
              "    const li = document.createElement('li');\n",
              "    li.append(span(file.name, {fontWeight: 'bold'}));\n",
              "    li.append(span(\n",
              "        `(${file.type || 'n/a'}) - ${file.size} bytes, ` +\n",
              "        `last modified: ${\n",
              "            file.lastModifiedDate ? file.lastModifiedDate.toLocaleDateString() :\n",
              "                                    'n/a'} - `));\n",
              "    const percent = span('0% done');\n",
              "    li.appendChild(percent);\n",
              "\n",
              "    outputElement.appendChild(li);\n",
              "\n",
              "    const fileDataPromise = new Promise((resolve) => {\n",
              "      const reader = new FileReader();\n",
              "      reader.onload = (e) => {\n",
              "        resolve(e.target.result);\n",
              "      };\n",
              "      reader.readAsArrayBuffer(file);\n",
              "    });\n",
              "    // Wait for the data to be ready.\n",
              "    let fileData = yield {\n",
              "      promise: fileDataPromise,\n",
              "      response: {\n",
              "        action: 'continue',\n",
              "      }\n",
              "    };\n",
              "\n",
              "    // Use a chunked sending to avoid message size limits. See b/62115660.\n",
              "    let position = 0;\n",
              "    do {\n",
              "      const length = Math.min(fileData.byteLength - position, MAX_PAYLOAD_SIZE);\n",
              "      const chunk = new Uint8Array(fileData, position, length);\n",
              "      position += length;\n",
              "\n",
              "      const base64 = btoa(String.fromCharCode.apply(null, chunk));\n",
              "      yield {\n",
              "        response: {\n",
              "          action: 'append',\n",
              "          file: file.name,\n",
              "          data: base64,\n",
              "        },\n",
              "      };\n",
              "\n",
              "      let percentDone = fileData.byteLength === 0 ?\n",
              "          100 :\n",
              "          Math.round((position / fileData.byteLength) * 100);\n",
              "      percent.textContent = `${percentDone}% done`;\n",
              "\n",
              "    } while (position < fileData.byteLength);\n",
              "  }\n",
              "\n",
              "  // All done.\n",
              "  yield {\n",
              "    response: {\n",
              "      action: 'complete',\n",
              "    }\n",
              "  };\n",
              "}\n",
              "\n",
              "scope.google = scope.google || {};\n",
              "scope.google.colab = scope.google.colab || {};\n",
              "scope.google.colab._files = {\n",
              "  _uploadFiles,\n",
              "  _uploadFilesContinue,\n",
              "};\n",
              "})(self);\n",
              "</script> "
            ]
          },
          "metadata": {}
        },
        {
          "output_type": "stream",
          "name": "stdout",
          "text": [
            "Saving CareerCraft Assignment 1.ipynb to CareerCraft Assignment 1.ipynb\n"
          ]
        }
      ],
      "source": [
        "|from google .colab import files\n",
        "uploaded =files.upload()"
      ]
    },
    {
      "cell_type": "code",
      "source": [
        "# assignments:1"
      ],
      "metadata": {
        "id": "cOxh165PyxKA"
      },
      "execution_count": null,
      "outputs": []
    },
    {
      "cell_type": "code",
      "source": [
        "Q 1: Check Even or Odd\n",
        "ans : number=int(input('Enter a number:'))\n",
        "if number%2=))\n",
        "print(f'{ number} is even.')\n",
        "else:\n",
        "print(f'{ number} is odd.')"
      ],
      "metadata": {
        "id": "h1Wnq7WU2V99"
      },
      "execution_count": null,
      "outputs": []
    },
    {
      "cell_type": "code",
      "source": [
        "Write a program to check if a number entered by the user is even or odd\n",
        "for check even or odd number\n",
        "ans: number=int(input('Enter a number:'))\n",
        "if number%2=))\n",
        "print(f'{ number} is even.')\n",
        "else:\n",
        "print(f'{ number} is odd.')"
      ],
      "metadata": {
        "id": "CK4CRhpq4HwR"
      },
      "execution_count": null,
      "outputs": []
    },
    {
      "cell_type": "code",
      "source": [
        "Q2: Calculate Monthly In-hand Salary after Deductions\n",
        "Write a program that will give you the in-hand monthly salary after deductions on CTC, with HRA (10%), DA (5%), PF (3%), and the following tax slabs:\n",
        "\n",
        "Salary (Lakhs): Tax (%)\n",
        "Below 5: 0%\n",
        "5-10: 10%\n",
        "10-20: 20%\n",
        "Above 20: 30%\n",
        "\n",
        "ans: salary=float(input('Enter your salary:'))\n",
        "hra=0.1*salary\n",
        "da=0.05*salary\n",
        "pf=0.03*salary\n",
        "if salary<5:\n",
        "tax=0\n",
        "elif salary<=10:\n",
        "tax=0.1*salary\n",
        "elif salary<=20:\n",
        "tax=0.2*salary\n",
        "else:\n",
        "tax=0.3*salary\n",
        "\n",
        "anual_salary=float(input('Enter your anual salary in lakhs:'))\n",
        "\n",
        "if anual_salary<5:\n",
        "tax=0\n",
        "elif 5 <=anual\n",
        "salary<10: tax_rate=10\n",
        "elif 10<=anual_salary<20:\n",
        "tax_rate=20\n",
        "else:\n",
        "tax_rate=30\n",
        "# calculate in hand salary\n",
        "tax=tax_rate/100*salary\n",
        "monthly_salary=salary/12\n",
        "in_hand_salary=salary-tax\n",
        "anual_salary-tax\n",
        "(monthly_in_hand_salary*100000)/12\n",
        "\n",
        "print (f' your monthly in_hand_salary after tax deduction  is: rs{monthly_in_hand_salary:.2f}')\n",
        "\n",
        "\n"
      ],
      "metadata": {
        "id": "mArLUMiO7k-H"
      },
      "execution_count": null,
      "outputs": []
    },
    {
      "cell_type": "code",
      "source": [
        "Q3.: Determine Profit or Loss\n",
        "Write a program that takes cost price and selling price as input and determines if it's a profit or loss.\n",
        "ans: cost_price=float(input('Enter the cost price:'))\n",
        "selling_price=float(input('Enter the selling price:'))\n",
        "if selling_price>cost_price:\n",
        "    print('Profit')\n",
        "elif selling_price<cost_price:\n",
        "    print('Loss')\n",
        "else:\n",
        "    print('Neither')\n",
        "\n"
      ],
      "metadata": {
        "id": "R6_8QPSh8mpc"
      },
      "execution_count": null,
      "outputs": []
    },
    {
      "cell_type": "code",
      "source": [
        "Q4: Display the First 10 Terms of the Fibonacci Series\n",
        "Write a program to print the first 10 terms of the Fibonacci series.\n",
        "ans: a,b=0,1\n",
        "for _ in range(10):\n",
        "print(a,end=' ')\n",
        "a,b=b,a+b\n"
      ],
      "metadata": {
        "id": "YSTbLuNz8ml9"
      },
      "execution_count": null,
      "outputs": []
    },
    {
      "cell_type": "code",
      "source": [
        "Q6: Reverse a Given Integer without uing inbuilt function\n",
        "Write a program to reverse a given integer numbe\n",
        "ans: number=int(input('Enter a number:'))\n",
        "reverse=0\n",
        "while number!=0:\n",
        "    remainder=number%10\n",
        "    reverse=(reverse*10)+remainder\n",
        "    number=number//10\n",
        "print('The reverse number is:',reverse)\n"
      ],
      "metadata": {
        "id": "6IclKaqW8mgr"
      },
      "execution_count": null,
      "outputs": []
    },
    {
      "cell_type": "code",
      "source": [
        "Q7: Sum from 1 to N with Conditions\n",
        "Take a user input integer N and find the sum from 1 to N. Skip numbers divisible by 5, and stop if the sum exceeds 300.\n",
        "ans: n=int(input('Enter a number:'))\n",
        "sum=0\n",
        "for i in range(1,n+1):\n",
        "    if i%5==0:\n",
        "        continue\n",
        "    sum+=i\n",
        "    if sum>300:\n",
        "        break\n",
        "print('The sum from 1 to',n,'is:',sum)\n",
        "\n"
      ],
      "metadata": {
        "id": "Oc7XL0698mdR"
      },
      "execution_count": null,
      "outputs": []
    },
    {
      "cell_type": "code",
      "source": [
        "Q8: Accept Numbers Until Zero, Then Display Sum and Average\n",
        "Write a program that keeps accepting numbers until the user enters zero. Display the sum and average of all numbers.\n",
        "ans: sum=0\n",
        "count=0\n",
        "while True:\n",
        "    number=float(input('Enter a number:'))\n",
        "    if number==0:\n",
        "        break\n",
        "    sum+=number\n",
        "    count+=1\n",
        "    average=sum/count\n",
        "    print('The sum of all numbers is:',sum)\n",
        "    print('The average of all numbers is:',average)\n"
      ],
      "metadata": {
        "id": "8Kda1rd68mZD"
      },
      "execution_count": null,
      "outputs": []
    },
    {
      "cell_type": "code",
      "source": [
        "Q9: Find Numbers Divisible by 7 but Not by 5\n",
        "Write a program to find numbers between 2000 and 3200 that are divisible by 7 but not multiples of 5. Display them in a comma-separated sequence.\n",
        "ans: numbers=[]\n",
        "for i in range(2000,3201):\n",
        "    if i%7==0 and i%5!=0:\n",
        "        numbers.append(str(i))\n",
        "print(','.join(numbers))\n"
      ],
      "metadata": {
        "id": "LPoMbgHO8mWW"
      },
      "execution_count": null,
      "outputs": []
    },
    {
      "cell_type": "code",
      "source": [
        "Q10. Calculate the Angle Between Clock Hands\n",
        "Write a program to calculate the angle between the hour and minute hands of a clock, given time in H hours and M minutes.\n",
        "ans: h=int(input('Enter the hour:'))\n",
        "m=int(input('Enter the minute:'))\n",
        "h_angle=0.5*(h*60+m)\n",
        "m_angle=6*m\n",
        "angle=abs(h_angle-m_angle)\n",
        "if angle>180:\n",
        "    angle=360-angle\n",
        "print('The angle between the hour and minute hands is:',angle)\n"
      ],
      "metadata": {
        "id": "e2pfspoh8mT5"
      },
      "execution_count": null,
      "outputs": []
    },
    {
      "cell_type": "code",
      "source": [
        "Q11. Check for Rectangle Overlap\n",
        "Write a program to check if two rectangles overlap, given the coordinates of their top-left and bottom-right corners.\n",
        "ans: x1=int(input('Enter the x-coordinate of the top-left corner of the first rectangle:'))\n",
        "y1=int(input('Enter the y-coordinate of the top-left corner of the first rectangle:'))\n",
        "x2=int(input('Enter the x-coordinate of the bottom-right corner of the first rectangle:'))\n",
        "y2=int(input('Enter the y-coordinate of the bottom-right corner of the first rectangle:'))\n",
        "x3=int(input('Enter the x-coordinate of the top-left corner of the second rectangle:'))\n",
        "y3=int(input('Enter the y-coordinate of the top-left corner of the second rectangle:'))\n",
        "\n"
      ],
      "metadata": {
        "id": "xsM9DUE98mQl"
      },
      "execution_count": null,
      "outputs": []
    },
    {
      "cell_type": "code",
      "source": [
        "Q12. Calculate the Number of Bottles That Can Fit in a Tank\n",
        "Given the volume of a water tank and the volume of a single bottle, calculate how many bottles of water can be filled from the tank. Assume all inputs are provided by the user.\n",
        "ans:\n",
        "volume_tank = float(input(\"Enter the volume of the water tank (in liters): \"))\n",
        "volume_bottle = float(input(\"Enter the volume of a single bottle (in liters): \"))\n",
        "num_bottles = volume_tank // volume_bottle\n",
        "print(\"The number of bottles that can fit in the tank is:\", num_bottles)\n"
      ],
      "metadata": {
        "id": "fgFC7MPA9KbG"
      },
      "execution_count": null,
      "outputs": []
    },
    {
      "cell_type": "code",
      "source": [
        "Q13. Find the Nth Term of a Geometric Sequence\n",
        "Given the first term and common ratio of a geometric sequence, find the Nth term. Assume all inputs are provided by the user.\n",
        "ans:\n",
        "first_term = float(input(\"Enter the first term of the geometric sequence: \"))\n",
        "common_ratio = float(input(\"Enter the common ratio of the geometric sequence: \"))\n",
        "n = int(input(\"Enter the value of n: \"))\n",
        "nth_term = first_term * (common_ratio ** (n - 1))\n",
        "print(\"The\", n, \"th term of the geometric sequence is:\", nth_term)\n"
      ],
      "metadata": {
        "id": "MsmyAEK29KWc"
      },
      "execution_count": null,
      "outputs": []
    },
    {
      "cell_type": "code",
      "source": [
        "Q14. Sum of Cubes of First N Natural Numbers\n",
        "Write a program to find the sum of cubes of the first n natural numbers. The user will provide the value of n.\n",
        "ans: n=int(input('Enter a number:'))\n",
        "sum=0\n",
        "for i in range(1,n+1):\n",
        "    sum+=i**3\n",
        "print('The sum of cubes of the first',n,'natural numbers is:',sum)\n",
        "\n",
        "\n"
      ],
      "metadata": {
        "id": "M66qXzmU9KTC"
      },
      "execution_count": null,
      "outputs": []
    },
    {
      "cell_type": "code",
      "source": [
        "Q15. Calculate the Manhattan Distance Between Two Points\n",
        "Write a program to calculate the Manhattan distance between two coordinates in a 2D plane. Take both coordinates from the user as input.\n",
        "ans: x1=int(input('Enter the x-coordinate of the first point:'))\n",
        "\n"
      ],
      "metadata": {
        "id": "oHqeuSqt9KPj"
      },
      "execution_count": null,
      "outputs": []
    },
    {
      "cell_type": "code",
      "source": [
        "Q16. Swap Two Numbers Without Using a Third Variable\n",
        "Take two integers as input from the user. Write a program to swap their values without using a third variable.\n",
        "ans: a=int(input('Enter the first number:'))\n",
        "b=int(input('Enter the second number:'))\n",
        "a=a+b\n",
        "b=a-b\n",
        "a=a-b\n",
        "\n",
        "    print('After swapping the numbers are:',a,b)\n",
        "    print('a=',a)\n",
        "    print('b=',b)\n"
      ],
      "metadata": {
        "id": "2LvrM5FZ9KLl"
      },
      "execution_count": null,
      "outputs": []
    },
    {
      "cell_type": "code",
      "source": [
        "Q17. Convert Kilometers to Miles\n",
        "Write a program to convert a distance from kilometers to miles. Assume 1 kilometer is approximately 0.621371 miles.\n",
        "ans:\n",
        "kilometers = float(input(\"Enter the distance in kilometers: \"))\n",
        "miles = kilometers * 0.621371\n",
        "print(\"The distance in miles is:\", miles)\n"
      ],
      "metadata": {
        "id": "nmX8jW_O9KIr"
      },
      "execution_count": null,
      "outputs": []
    },
    {
      "cell_type": "code",
      "source": [
        "Q18. Sum and Average of Entered Numbers\n",
        "Write a program that keeps accepting numbers from the user until zero is entered. Display the sum and average of the numbers.\n",
        "ans:\n",
        "sum = 0\n",
        "count = 0\n",
        "while True:\n",
        "    number = float(input(\"Enter a number: \"))\n",
        "    if number == 0:\n",
        "        break\n",
        "    sum += number\n",
        "    count += 1\n",
        "    average = sum / count\n",
        "    print(\"The sum of the numbers is:\", sum)\n",
        "    print(\"The average of the numbers is:\", average)\n",
        "\n",
        "\n",
        "\n"
      ],
      "metadata": {
        "id": "vh27-PQn9KE9"
      },
      "execution_count": null,
      "outputs": []
    },
    {
      "cell_type": "code",
      "source": [
        "Q19. Using conditional statement design a menu driven calculator. It should take two operands\n",
        "and operation to be done as input and do the calculation.\n",
        "ans:\n",
        "num1=float(input('Enter the first number:'))\n",
        "num2=float(input('Enter the second number:'))\n",
        "operation=input('Enter the operation to be done:')\n",
        "if operation=='+':\n",
        "    result=num1+num2\n",
        "elif operation=='-':\n",
        "    result=num1-num2\n",
        "elif operation=='*':\n",
        "    result=num1*num2\n",
        "elif operation=='/':\n",
        "    result=num1/num2\n",
        "\n",
        "\n"
      ],
      "metadata": {
        "id": "PC-g8AqK9KB1"
      },
      "execution_count": null,
      "outputs": []
    },
    {
      "cell_type": "code",
      "source": [
        "Q20. Make a restaurant menu and suggest best dish for a veg starter except paneer.\n",
        "ans:"
      ],
      "metadata": {
        "id": "wY44JTU99J-Y"
      },
      "execution_count": null,
      "outputs": []
    },
    {
      "cell_type": "code",
      "source": [
        "Q21. Design an ATM using conditionals\n",
        "ans:"
      ],
      "metadata": {
        "id": "ZQ7UzuYD9J7a"
      },
      "execution_count": null,
      "outputs": []
    },
    {
      "cell_type": "code",
      "source": [],
      "metadata": {
        "id": "8JjbaPzH9J3d"
      },
      "execution_count": null,
      "outputs": []
    },
    {
      "cell_type": "code",
      "source": [],
      "metadata": {
        "id": "u7njq4oT9JzX"
      },
      "execution_count": null,
      "outputs": []
    },
    {
      "cell_type": "code",
      "source": [],
      "metadata": {
        "id": "XNz_Uo6E9Ju_"
      },
      "execution_count": null,
      "outputs": []
    },
    {
      "cell_type": "code",
      "source": [],
      "metadata": {
        "id": "gl6n5LV88mMI"
      },
      "execution_count": null,
      "outputs": []
    },
    {
      "cell_type": "code",
      "source": [],
      "metadata": {
        "id": "W4t8JOXE8mIN"
      },
      "execution_count": null,
      "outputs": []
    },
    {
      "cell_type": "code",
      "source": [],
      "metadata": {
        "id": "DXbNRKWp8mDZ"
      },
      "execution_count": null,
      "outputs": []
    },
    {
      "cell_type": "code",
      "source": [],
      "metadata": {
        "id": "7vQKqexa8l_f"
      },
      "execution_count": null,
      "outputs": []
    }
  ]
}